{
 "cells": [
  {
   "cell_type": "markdown",
   "metadata": {},
   "source": [
    "## Scratch OneR Algorithm"
   ]
  },
  {
   "cell_type": "markdown",
   "metadata": {},
   "source": [
    "### Overview"
   ]
  },
  {
   "cell_type": "markdown",
   "metadata": {},
   "source": [
    "OneR, short for \"One Rule\", is a simple, yet accurate, classification algorithm that generates one rule for each predictor in the data, then selects the rule with the smallest total error as its \"one rule\".  To create a rule for a predictor, we construct a frequency table for each predictor against the target. It has been shown that OneR produces rules only slightly less accurate than state-of-the-art classification algorithms while producing rules that are simple for humans to interpret."
   ]
  },
  {
   "cell_type": "markdown",
   "metadata": {},
   "source": [
    "### Algorithm Definition"
   ]
  },
  {
   "cell_type": "code",
   "execution_count": 5,
   "metadata": {
    "collapsed": true
   },
   "outputs": [],
   "source": [
    "# For each predictor,\n",
    "     # For each value of that predictor, make a rule as follows;\n",
    "           # Count how often each value of target (class) appears\n",
    "           # Find the most frequent class\n",
    "           # Make the rule assign that class to this value of the predictor\n",
    "     # Calculate the total error of the rules of each predictor\n",
    "# Choose the predictor with the smallest total error."
   ]
  },
  {
   "cell_type": "markdown",
   "metadata": {},
   "source": [
    "### Scratch Code"
   ]
  },
  {
   "cell_type": "markdown",
   "metadata": {},
   "source": [
    "This is a scratch implementation of OneR. I used pandas to ease the data wrangling the input for fit."
   ]
  },
  {
   "cell_type": "code",
   "execution_count": 6,
   "metadata": {
    "collapsed": true
   },
   "outputs": [],
   "source": [
    "import pandas as pd"
   ]
  },
  {
   "cell_type": "code",
   "execution_count": 7,
   "metadata": {
    "collapsed": true
   },
   "outputs": [],
   "source": [
    "class OneR(object):\n",
    "    \n",
    "    def __init__(self):\n",
    "        self.ideal_variable = None\n",
    "        self.max_accuracy = 0\n",
    "    \n",
    "    def fit(self, X, y):\n",
    "        response = list()\n",
    "        result = dict()\n",
    "        \n",
    "        dfx = pd.DataFrame(X)\n",
    "        \n",
    "        for i in dfx:\n",
    "            result[str(i)] = dict()\n",
    "            options_values = set(dfx[i])\n",
    "            join_data = pd.DataFrame({\"variable\":dfx[i], \"label\":y})\n",
    "            cross_table = pd.crosstab(join_data.variable, join_data.label)\n",
    "            summary = cross_table.idxmax(axis=1)\n",
    "            result[str(i)] = dict(summary)\n",
    "            \n",
    "            counts = 0\n",
    "            \n",
    "            for idx, row in join_data.iterrows():\n",
    "                if row['label'] == result[str(i)][row['variable']]:\n",
    "                    counts += 1\n",
    "\n",
    "            accuracy = (counts/len(y))\n",
    "            \n",
    "            if accuracy > self.max_accuracy:\n",
    "                self.max_accuracy = accuracy\n",
    "                self.ideal_variable = i\n",
    "\n",
    "            result_feature = {\"variable\": str(i), \"accuracy\":accuracy, \"rules\": result[str(i)] }  \n",
    "            response.append(result_feature)\n",
    "            \n",
    "        return response\n",
    "\n",
    "    \n",
    "    def predict(self, X=None):\n",
    "        self_ideal_variable = self.ideal_variable + 1\n",
    "        \n",
    "    def __repr__(self):\n",
    "        if self.ideal_variable != None:\n",
    "            txt = \"La mejor variable para tus datos es: \" + str(self.ideal_variable)\n",
    "        else:\n",
    "            txt = \"La mejor variable aun no se ha encontrado, intente ejecutar el metodo fit previamente\"\n",
    "        return txt"
   ]
  },
  {
   "cell_type": "code",
   "execution_count": 8,
   "metadata": {
    "collapsed": true
   },
   "outputs": [],
   "source": [
    "X = [ [\"a\", \"1\"],\n",
    "      [\"a\", \"2\"],\n",
    "      [\"a\", \"3\"],\n",
    "      [\"b\", \"1\"],\n",
    "      [\"b\", \"2\"],\n",
    "      [\"b\", \"3\"],\n",
    "      [\"c\", \"1\"],\n",
    "      [\"c\", \"1\"],\n",
    "      ]\n",
    "\n",
    "y = [\"p\", \"p\", \"e\",\n",
    "     \"e\", \"p\", \"e\",\n",
    "     \"p\", \"p\"]"
   ]
  },
  {
   "cell_type": "code",
   "execution_count": 9,
   "metadata": {
    "scrolled": false
   },
   "outputs": [
    {
     "name": "stdout",
     "output_type": "stream",
     "text": [
      "[{'variable': '0', 'accuracy': 0.75, 'rules': {'a': 'p', 'b': 'e', 'c': 'p'}}, {'variable': '1', 'accuracy': 0.875, 'rules': {'1': 'p', '2': 'p', '3': 'e'}}]\n",
      "La mejor variable para tus datos es: 1\n"
     ]
    }
   ],
   "source": [
    "clf = OneR()\n",
    "results = clf.fit(X, y)\n",
    "\n",
    "print(results)\n",
    "print(clf)"
   ]
  },
  {
   "cell_type": "markdown",
   "metadata": {},
   "source": [
    "### Testing with data less newbie - Data Mushrooms"
   ]
  },
  {
   "cell_type": "markdown",
   "metadata": {},
   "source": [
    "Se tiene una muestra de 8124 instancias de hongos provenientes de 23 especies de la familia Agaricus y Lepiota. Por el tipo de problema en cuestión, los hongos de comestibilidad desconocida fueron asignados a la clase de hongos definitivamente venenosos.\n",
    "\n",
    "Fuente de los datos: https://archive.ics.uci.edu/ml/datasets/mushroom"
   ]
  },
  {
   "cell_type": "code",
   "execution_count": 12,
   "metadata": {},
   "outputs": [
    {
     "name": "stdout",
     "output_type": "stream",
     "text": [
      "La mejor variable para tus datos es: odor\n"
     ]
    }
   ],
   "source": [
    "data = pd.read_csv('data/mushrooms.csv')\n",
    "y_mush = data['type']\n",
    "\n",
    "x_mush = data.loc[:,'cap_shape':]\n",
    "\n",
    "clf_mush = OneR()\n",
    "results = clf_mush.fit(x_mush, y_mush)\n",
    "\n",
    "print(clf_mush)"
   ]
  },
  {
   "cell_type": "markdown",
   "metadata": {},
   "source": [
    "### Checking Cross Validation"
   ]
  },
  {
   "cell_type": "code",
   "execution_count": 13,
   "metadata": {},
   "outputs": [
    {
     "name": "stdout",
     "output_type": "stream",
     "text": [
      "0.9852253139620786\n"
     ]
    }
   ],
   "source": [
    "import numpy as np\n",
    "from sklearn.model_selection import train_test_split\n",
    "\n",
    "data = pd.read_csv('data/mushrooms.csv')\n",
    "\n",
    "num = 10\n",
    "clf_mush_cv = OneR()\n",
    "accuracy_items = list()\n",
    "\n",
    "for i in range(num):\n",
    "    \n",
    "    x_train, x_test, y_train, y_test = train_test_split(\n",
    "        x_mush, y_mush,\n",
    "        test_size=2,\n",
    "        random_state=42)\n",
    "\n",
    "    clf_mush_cv.fit(x_train, y_train)\n",
    "    accuracy_items.append(clf_mush_cv.max_accuracy)\n",
    "\n",
    "print(sum(accuracy_items) / num)"
   ]
  }
 ],
 "metadata": {
  "kernelspec": {
   "display_name": "Python 3",
   "language": "python",
   "name": "python3"
  },
  "language_info": {
   "codemirror_mode": {
    "name": "ipython",
    "version": 3
   },
   "file_extension": ".py",
   "mimetype": "text/x-python",
   "name": "python",
   "nbconvert_exporter": "python",
   "pygments_lexer": "ipython3",
   "version": "3.7.5"
  }
 },
 "nbformat": 4,
 "nbformat_minor": 2
}
